{
 "cells": [
  {
   "cell_type": "markdown",
   "id": "7e7bb69b",
   "metadata": {},
   "source": [
    "## How to draw a polyline (i.e., a set of countigous points) on OpenStreetMap ?"
   ]
  },
  {
   "cell_type": "code",
   "execution_count": null,
   "id": "bbaeb0d4",
   "metadata": {},
   "outputs": [],
   "source": [
    "\n",
    "#% pip install folium\n",
    "\n",
    "import folium\n",
    "\n",
    "# Define coordinates for the map center and line\n",
    "map_center = [51.5, -0.09]  # Central point (latitude, longitude)\n",
    "line_coordinates = [\n",
    "    [51.505, -0.09],\n",
    "    [51.5, -0.1],\n",
    "    [51.52, -0.12]\n",
    "]\n",
    "\n",
    "# Create a map centered on the specified location\n",
    "map_osm = folium.Map ( location=map_center, zoom_start=13 )\n",
    "\n",
    "# Add a line to the map with the specified coordinates\n",
    "folium.PolyLine ( \n",
    "    line_coordinates, \n",
    "    color=\"blue\", \n",
    "    weight=5, \n",
    "    opacity=0.7 \n",
    ").add_to( map_osm )\n",
    "\n",
    "\n",
    "# Display the map (if in Jupyter Notebook) or save it as an HTML file\n",
    "#map_osm.save ( \"OSM_How_to_plot_a_line_01.html\" )\n",
    "\n",
    "map_osm  # In Jupyter, this will display the map"
   ]
  },
  {
   "cell_type": "code",
   "execution_count": null,
   "id": "de956d56",
   "metadata": {},
   "outputs": [],
   "source": [
    "#folium.PolyLine?"
   ]
  },
  {
   "cell_type": "raw",
   "id": "dd4d208e",
   "metadata": {},
   "source": [
    "Usage: \n",
    "\n",
    "Init signature: folium.PolyLine(locations, popup=None, tooltip=None, **kwargs)\n",
    "Docstring:     \n",
    "Draw polyline overlays on a map.\n",
    "\n",
    "See :func:`folium.vector_layers.path_options` for the `Path` options.\n",
    "\n",
    "Parameters\n",
    "----------\n",
    "locations: list of points (latitude, longitude)\n",
    "    Latitude and Longitude of line (Northing, Easting)\n",
    "    Pass multiple sequences of coordinates for a multi-polyline.\n",
    "popup: str or folium.Popup, default None\n",
    "    Input text or visualization for object displayed when clicking.\n",
    "tooltip: str or folium.Tooltip, default None\n",
    "    Display a text when hovering over the object.\n",
    "smooth_factor: float, default 1.0\n",
    "    How much to simplify the polyline on each zoom level.\n",
    "    More means better performance and smoother look,\n",
    "    and less means more accurate representation.\n",
    "no_clip: Bool, default False\n",
    "    Disable polyline clipping.\n",
    "**kwargs\n",
    "    Other valid (possibly inherited) options. See:\n",
    "    https://leafletjs.com/reference.html#polyline\n",
    "File:           ~/.local/lib/python3.12/site-packages/folium/vector_layers.py\n",
    "Type:           type\n",
    "Subclasses:     \n",
    "\n"
   ]
  },
  {
   "cell_type": "code",
   "execution_count": null,
   "id": "426292ba",
   "metadata": {},
   "outputs": [],
   "source": [
    "# Again \n",
    "\n",
    "map_center = [51.5, -0.09]  # Central point (latitude, longitude)\n",
    "line_coordinates = [\n",
    "    [51.505, -0.09],\n",
    "    [51.5, -0.1],\n",
    "    [51.52, -0.12]\n",
    "]\n",
    "\n",
    "# Create a map centered on the specified location\n",
    "map_osm = folium.Map ( location=map_center, zoom_start=13 )\n",
    "\n",
    "# Add a line to the map with the specified coordinates\n",
    "folium.PolyLine ( \n",
    "    line_coordinates, \n",
    "    color = \"blue\", \n",
    "    weight = 10, \n",
    "    opacity = 1.0 \n",
    ").add_to( map_osm )\n",
    "\n",
    "map_osm  # In Jupyter, this will display the map"
   ]
  },
  {
   "cell_type": "code",
   "execution_count": null,
   "id": "6ebc4ebe",
   "metadata": {},
   "outputs": [],
   "source": [
    "\n",
    "# Again \n",
    "\n",
    "map_center = [10.7711, 106.7] \n",
    "\n",
    "line_coordinates = [\n",
    "    [10.79, 106.69],\n",
    "    [10.7711, 106.7],\n",
    "    [10.8, 106.72]\n",
    "]\n",
    "\n",
    "map_osm = folium.Map ( location=map_center, zoom_start=13 )\n",
    "\n",
    "# Draw the polyline:\n",
    "\n",
    "folium.PolyLine ( \n",
    "    line_coordinates, \n",
    "    color = \"blue\", \n",
    "    weight = 10, \n",
    "    opacity = 1.0 \n",
    ").add_to( map_osm )\n",
    "\n",
    "# Add the points:\n",
    "\n",
    "folium.Marker(\n",
    "    location=line_coordinates[0],\n",
    "    tooltip=\"Click me!\",\n",
    "    popup=\"P1\",\n",
    "    icon=folium.Icon(icon=\"cloud\"),\n",
    ").add_to(map_osm)\n",
    "\n",
    "folium.Marker(\n",
    "    location=line_coordinates[1],\n",
    "    tooltip=\"Click me!\",\n",
    "    popup=\"P2\",\n",
    "    icon=folium.Icon(color=\"green\"),\n",
    ").add_to(map_osm)\n",
    "\n",
    "\n",
    "folium.Marker(\n",
    "    location=line_coordinates[2],\n",
    "    tooltip=\"Click me!\",\n",
    "    popup=\"P3\",\n",
    "    icon=folium.Icon(icon=\"cloud\",color=\"red\"),\n",
    ").add_to(map_osm)\n",
    "\n",
    "# Show the map:\n",
    "\n",
    "map_osm  "
   ]
  },
  {
   "cell_type": "markdown",
   "id": "087bbd64",
   "metadata": {},
   "source": [
    "# Let's have more joyful time with Numpy "
   ]
  },
  {
   "cell_type": "code",
   "execution_count": null,
   "id": "c8e1b4ee",
   "metadata": {},
   "outputs": [],
   "source": [
    "import numpy as np "
   ]
  },
  {
   "cell_type": "code",
   "execution_count": null,
   "id": "9d0bc326",
   "metadata": {},
   "outputs": [],
   "source": [
    "np.size( line_coordinates ) "
   ]
  },
  {
   "cell_type": "code",
   "execution_count": null,
   "id": "34ecb826",
   "metadata": {},
   "outputs": [],
   "source": [
    "np.shape( line_coordinates ) "
   ]
  },
  {
   "cell_type": "code",
   "execution_count": null,
   "id": "5b67aba2",
   "metadata": {},
   "outputs": [],
   "source": [
    "# Again \n",
    "\n",
    "x0, y0 = [ 10.7711, 106.7 ]\n",
    "\n",
    "dx = 0.1\n",
    "x1 = x0 - dx\n",
    "x2 = x0 + dx \n",
    "\n",
    "N = 100 \n",
    "\n",
    "xp = np.linspace ( x1, x2, N )\n",
    "\n",
    "dy = dx \n",
    "yp = y0 + dy*np.sin( 5*np.pi* xp/(x2-x1) )"
   ]
  },
  {
   "cell_type": "code",
   "execution_count": null,
   "id": "b523ee71",
   "metadata": {},
   "outputs": [],
   "source": [
    "#xp,yp"
   ]
  },
  {
   "cell_type": "code",
   "execution_count": null,
   "id": "008181dc",
   "metadata": {},
   "outputs": [],
   "source": [
    "map_center = [ x0, y0 ] \n",
    "\n",
    "line_coordinates = np.array( [xp, yp] ).T\n",
    "#line_coordinates"
   ]
  },
  {
   "cell_type": "code",
   "execution_count": null,
   "id": "073fc07c",
   "metadata": {},
   "outputs": [],
   "source": [
    "\n",
    "map_osm = folium.Map ( location=map_center, zoom_start=10 )\n",
    "\n",
    "# Draw the polyline:\n",
    "\n",
    "folium.PolyLine ( \n",
    "    line_coordinates, \n",
    "    color = \"blue\", \n",
    "    weight = 5, \n",
    "    opacity = 0.5 \n",
    ").add_to( map_osm )\n",
    "\n",
    "# Add the points:\n",
    "\n",
    "folium.Marker(\n",
    "    location=line_coordinates[0],\n",
    "    tooltip=\"Click me!\",\n",
    "    popup=\"Begin\",\n",
    "    icon=folium.Icon(icon=\"cloud\"),\n",
    ").add_to(map_osm)\n",
    "\n",
    "folium.Marker(\n",
    "    location=line_coordinates[int(N/2)],\n",
    "    tooltip=\"Click me!\",\n",
    "    popup=\"Middle\",\n",
    "    icon=folium.Icon(color=\"green\"),\n",
    ").add_to(map_osm)\n",
    "\n",
    "\n",
    "folium.Marker(\n",
    "    location=line_coordinates[N-1],\n",
    "    tooltip=\"Click me!\",\n",
    "    popup=\"End\",\n",
    "    icon=folium.Icon(icon=\"cloud\",color=\"red\"),\n",
    ").add_to(map_osm)\n",
    "\n",
    "# Save as HTML:\n",
    "map_osm.save ( \"OSM_How_to_plot_a_line_01.html\" )\n",
    "\n",
    "# Show the map:\n",
    "map_osm  "
   ]
  },
  {
   "cell_type": "markdown",
   "id": "13957bcd",
   "metadata": {},
   "source": [
    "### ..."
   ]
  },
  {
   "cell_type": "code",
   "execution_count": null,
   "id": "8dcf4f96",
   "metadata": {},
   "outputs": [],
   "source": []
  }
 ],
 "metadata": {
  "kernelspec": {
   "display_name": "Python 3 (ipykernel)",
   "language": "python",
   "name": "python3"
  },
  "language_info": {
   "codemirror_mode": {
    "name": "ipython",
    "version": 3
   },
   "file_extension": ".py",
   "mimetype": "text/x-python",
   "name": "python",
   "nbconvert_exporter": "python",
   "pygments_lexer": "ipython3",
   "version": "3.11.8"
  }
 },
 "nbformat": 4,
 "nbformat_minor": 5
}
